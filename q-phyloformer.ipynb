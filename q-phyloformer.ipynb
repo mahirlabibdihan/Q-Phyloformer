{
 "cells": [
  {
   "cell_type": "code",
   "execution_count": 1,
   "id": "cbc3cce8",
   "metadata": {
    "_cell_guid": "b1076dfc-b9ad-4769-8c92-a6c4dae69d19",
    "_uuid": "8f2839f25d086af736a60e9eeb907d3b93b6e0e5",
    "execution": {
     "iopub.execute_input": "2025-07-22T08:22:09.446236Z",
     "iopub.status.busy": "2025-07-22T08:22:09.445962Z",
     "iopub.status.idle": "2025-07-22T08:22:14.134253Z",
     "shell.execute_reply": "2025-07-22T08:22:14.133612Z"
    },
    "papermill": {
     "duration": 4.694526,
     "end_time": "2025-07-22T08:22:14.135696",
     "exception": false,
     "start_time": "2025-07-22T08:22:09.441170",
     "status": "completed"
    },
    "tags": []
   },
   "outputs": [],
   "source": [
    "import torch\n",
    "import torch.nn as nn"
   ]
  },
  {
   "cell_type": "code",
   "execution_count": 2,
   "id": "61c65668",
   "metadata": {
    "execution": {
     "iopub.execute_input": "2025-07-22T08:22:14.143787Z",
     "iopub.status.busy": "2025-07-22T08:22:14.143150Z",
     "iopub.status.idle": "2025-07-22T08:22:14.147144Z",
     "shell.execute_reply": "2025-07-22T08:22:14.146439Z"
    },
    "papermill": {
     "duration": 0.008892,
     "end_time": "2025-07-22T08:22:14.148229",
     "exception": false,
     "start_time": "2025-07-22T08:22:14.139337",
     "status": "completed"
    },
    "tags": []
   },
   "outputs": [],
   "source": [
    "VOCAB = ['A', 'C', 'G', 'T']\n",
    "BASE2IDX = {'A': 0, 'C': 1, 'G': 2, 'T': 3, '-': 4, 'N': 5}\n",
    "VOCAB_SIZE = len(BASE2IDX)"
   ]
  },
  {
   "cell_type": "code",
   "execution_count": 3,
   "id": "c6fa4562",
   "metadata": {
    "execution": {
     "iopub.execute_input": "2025-07-22T08:22:14.155115Z",
     "iopub.status.busy": "2025-07-22T08:22:14.154900Z",
     "iopub.status.idle": "2025-07-22T08:22:14.159679Z",
     "shell.execute_reply": "2025-07-22T08:22:14.159107Z"
    },
    "papermill": {
     "duration": 0.00926,
     "end_time": "2025-07-22T08:22:14.160678",
     "exception": false,
     "start_time": "2025-07-22T08:22:14.151418",
     "status": "completed"
    },
    "tags": []
   },
   "outputs": [],
   "source": [
    "class RowAttention(nn.Module):\n",
    "    def __init__(self, dim, heads):\n",
    "        super().__init__()\n",
    "        self.attn = nn.MultiheadAttention(dim, heads, batch_first=True)\n",
    "\n",
    "    def forward(self, x):\n",
    "        # x: (B, N=4, L, D)\n",
    "        B, N, L, D = x.shape\n",
    "        x = x.transpose(1, 2)         # (B, L, N, D)\n",
    "        x = x.reshape(B * L, N, D)\n",
    "        x, _ = self.attn(x, x, x)\n",
    "        x = x.reshape(B, L, N, D).transpose(1, 2)  # (B, N, L, D)\n",
    "        return x"
   ]
  },
  {
   "cell_type": "code",
   "execution_count": 4,
   "id": "9707c8b4",
   "metadata": {
    "execution": {
     "iopub.execute_input": "2025-07-22T08:22:14.167439Z",
     "iopub.status.busy": "2025-07-22T08:22:14.167237Z",
     "iopub.status.idle": "2025-07-22T08:22:14.171707Z",
     "shell.execute_reply": "2025-07-22T08:22:14.171100Z"
    },
    "papermill": {
     "duration": 0.009137,
     "end_time": "2025-07-22T08:22:14.172826",
     "exception": false,
     "start_time": "2025-07-22T08:22:14.163689",
     "status": "completed"
    },
    "tags": []
   },
   "outputs": [],
   "source": [
    "class ColumnAttention(nn.Module):\n",
    "    def __init__(self, dim, heads):\n",
    "        super().__init__()\n",
    "        self.attn = nn.MultiheadAttention(dim, heads, batch_first=True)\n",
    "\n",
    "    def forward(self, x):\n",
    "        # x: (B, N=4, L, D)\n",
    "        B, N, L, D = x.shape\n",
    "        x = x.reshape(B * N, L, D)\n",
    "        x, _ = self.attn(x, x, x)\n",
    "        x = x.reshape(B, N, L, D)\n",
    "        return x"
   ]
  },
  {
   "cell_type": "code",
   "execution_count": 5,
   "id": "975278c8",
   "metadata": {
    "execution": {
     "iopub.execute_input": "2025-07-22T08:22:14.179645Z",
     "iopub.status.busy": "2025-07-22T08:22:14.179404Z",
     "iopub.status.idle": "2025-07-22T08:22:14.184429Z",
     "shell.execute_reply": "2025-07-22T08:22:14.183895Z"
    },
    "papermill": {
     "duration": 0.009554,
     "end_time": "2025-07-22T08:22:14.185405",
     "exception": false,
     "start_time": "2025-07-22T08:22:14.175851",
     "status": "completed"
    },
    "tags": []
   },
   "outputs": [],
   "source": [
    "class MSABlock(nn.Module):\n",
    "    def __init__(self, dim, heads, dropout=0.1):\n",
    "        super().__init__()\n",
    "        self.norm1 = nn.LayerNorm(dim)\n",
    "        self.norm2 = nn.LayerNorm(dim)\n",
    "        self.norm3 = nn.LayerNorm(dim)\n",
    "\n",
    "        self.row_attn = RowAttention(dim, heads)\n",
    "        self.col_attn = ColumnAttention(dim, heads)\n",
    "\n",
    "        self.ffn = nn.Sequential(\n",
    "            nn.Linear(dim, dim * 4),\n",
    "            nn.GELU(),\n",
    "            nn.Linear(dim * 4, dim), # \n",
    "            nn.Dropout(dropout)\n",
    "        )\n",
    "    def forward(self, x):\n",
    "        # Row Attention + residual\n",
    "        x = x + self.row_attn(self.norm1(x))\n",
    "        # Column Attention + residual\n",
    "        x = x + self.col_attn(self.norm2(x))\n",
    "        # Feed‑Forward + residual\n",
    "        x = x + self.ffn(self.norm3(x))\n",
    "        return x"
   ]
  },
  {
   "cell_type": "code",
   "execution_count": 6,
   "id": "a27c56d7",
   "metadata": {
    "execution": {
     "iopub.execute_input": "2025-07-22T08:22:14.192248Z",
     "iopub.status.busy": "2025-07-22T08:22:14.192032Z",
     "iopub.status.idle": "2025-07-22T08:22:14.197698Z",
     "shell.execute_reply": "2025-07-22T08:22:14.197160Z"
    },
    "papermill": {
     "duration": 0.010419,
     "end_time": "2025-07-22T08:22:14.198829",
     "exception": false,
     "start_time": "2025-07-22T08:22:14.188410",
     "status": "completed"
    },
    "tags": []
   },
   "outputs": [],
   "source": [
    "class QuartetTransformer(nn.Module):\n",
    "    def __init__(self, seq_len=512, dim=64, heads=4, layers=4):\n",
    "        super().__init__()\n",
    "        self.embedding = nn.Embedding(VOCAB_SIZE, dim)\n",
    "        self.taxon_embed = nn.Embedding(4, dim)  # 4 fixed taxa\n",
    "\n",
    "        self.blocks = nn.ModuleList([\n",
    "            MSABlock(dim, heads) for _ in range(layers)\n",
    "        ])\n",
    "\n",
    "        self.norm = nn.LayerNorm(dim)\n",
    "        self.classifier = nn.Sequential(\n",
    "            nn.AdaptiveAvgPool2d((1, 1)),  # pool over taxa × sites -> (B, D, 1, 1)\n",
    "            nn.Flatten(), # (B, D)\n",
    "            nn.Linear(dim, 3)  # (B, 3)\n",
    "        )\n",
    "\n",
    "    def forward(self, x):\n",
    "        # x: (B, 4, L), each entry ∈ [0, VOCAB_SIZE-1]\n",
    "        B, N, L = x.shape\n",
    "        x = self.embedding(x)  # bব \n",
    "        taxon_ids = torch.arange(N, device=x.device).unsqueeze(0).expand(B, N)\n",
    "        taxon_embed = self.taxon_embed(taxon_ids).unsqueeze(2)  # (B, 4, 1, D)\n",
    "        x = x + taxon_embed\n",
    "\n",
    "        for block in self.blocks:\n",
    "            x = block(x)\n",
    "\n",
    "        x = self.norm(x)\n",
    "\n",
    "        x = x.permute(0, 3, 1, 2)  # (B, D, 4, L) -> Quick Fix. Need to recheck.\n",
    "        return self.classifier(x)  # (B, 3)"
   ]
  },
  {
   "cell_type": "code",
   "execution_count": 7,
   "id": "94a820cf",
   "metadata": {
    "execution": {
     "iopub.execute_input": "2025-07-22T08:22:14.205441Z",
     "iopub.status.busy": "2025-07-22T08:22:14.205235Z",
     "iopub.status.idle": "2025-07-22T08:22:14.209085Z",
     "shell.execute_reply": "2025-07-22T08:22:14.208565Z"
    },
    "papermill": {
     "duration": 0.008168,
     "end_time": "2025-07-22T08:22:14.210036",
     "exception": false,
     "start_time": "2025-07-22T08:22:14.201868",
     "status": "completed"
    },
    "tags": []
   },
   "outputs": [],
   "source": [
    "import random\n",
    "\n",
    "def random_msa(length=256):\n",
    "    \"\"\"Simulate a random 4×L MSA.\"\"\"\n",
    "    bases = list(BASE2IDX.keys())[:-1]  # avoid N\n",
    "    msa = [\n",
    "        [random.choice(bases) for _ in range(length)]\n",
    "        for _ in range(4)\n",
    "    ]\n",
    "    return msa"
   ]
  },
  {
   "cell_type": "code",
   "execution_count": 8,
   "id": "1633947c",
   "metadata": {
    "execution": {
     "iopub.execute_input": "2025-07-22T08:22:14.216917Z",
     "iopub.status.busy": "2025-07-22T08:22:14.216351Z",
     "iopub.status.idle": "2025-07-22T08:22:14.220204Z",
     "shell.execute_reply": "2025-07-22T08:22:14.219501Z"
    },
    "papermill": {
     "duration": 0.008266,
     "end_time": "2025-07-22T08:22:14.221257",
     "exception": false,
     "start_time": "2025-07-22T08:22:14.212991",
     "status": "completed"
    },
    "tags": []
   },
   "outputs": [],
   "source": [
    "def encode_msa(msa_4seq):\n",
    "    # msa_4seq: list of 4 strings (each of length L)\n",
    "    return torch.tensor([\n",
    "        [BASE2IDX.get(base.upper(), BASE2IDX['N']) for base in seq]\n",
    "        for seq in msa_4seq\n",
    "    ], dtype=torch.long)  # shape: (4, L)"
   ]
  },
  {
   "cell_type": "code",
   "execution_count": 9,
   "id": "4aa0d723",
   "metadata": {
    "execution": {
     "iopub.execute_input": "2025-07-22T08:22:14.227947Z",
     "iopub.status.busy": "2025-07-22T08:22:14.227754Z",
     "iopub.status.idle": "2025-07-22T08:22:14.231087Z",
     "shell.execute_reply": "2025-07-22T08:22:14.230602Z"
    },
    "papermill": {
     "duration": 0.007642,
     "end_time": "2025-07-22T08:22:14.232014",
     "exception": false,
     "start_time": "2025-07-22T08:22:14.224372",
     "status": "completed"
    },
    "tags": []
   },
   "outputs": [],
   "source": [
    "def random_mutate(seq, rate):\n",
    "    \"\"\"Mutate each base with probability `rate` to one of A/C/G/T (not including '-' or 'N')\"\"\"\n",
    "    return [\n",
    "        base if random.random() > rate else random.choice([b for b in VOCAB if b != base])\n",
    "        for base in seq\n",
    "    ]"
   ]
  },
  {
   "cell_type": "code",
   "execution_count": 10,
   "id": "879c11cf",
   "metadata": {
    "execution": {
     "iopub.execute_input": "2025-07-22T08:22:14.238477Z",
     "iopub.status.busy": "2025-07-22T08:22:14.238277Z",
     "iopub.status.idle": "2025-07-22T08:22:14.242437Z",
     "shell.execute_reply": "2025-07-22T08:22:14.241919Z"
    },
    "papermill": {
     "duration": 0.008506,
     "end_time": "2025-07-22T08:22:14.243403",
     "exception": false,
     "start_time": "2025-07-22T08:22:14.234897",
     "status": "completed"
    },
    "tags": []
   },
   "outputs": [],
   "source": [
    "# Helper: mutate sequence with substitutions and deletions\n",
    "def mutate(seq, sub_rate=0.1, del_rate=0.05):\n",
    "    new_seq = []\n",
    "    for base in seq:\n",
    "        if random.random() < del_rate:\n",
    "            # simulate a deletion by converting to a gap\n",
    "            new_seq.append('-')\n",
    "        else:\n",
    "            if random.random() < sub_rate:\n",
    "                # substitute to a different nucleotide\n",
    "                new_base = random.choice([b for b in \"ACGT\" if b != base])\n",
    "            else:\n",
    "                new_base = base\n",
    "            new_seq.append(new_base)\n",
    "    return new_seq"
   ]
  },
  {
   "cell_type": "code",
   "execution_count": 11,
   "id": "dfeac5d2",
   "metadata": {
    "execution": {
     "iopub.execute_input": "2025-07-22T08:22:14.250631Z",
     "iopub.status.busy": "2025-07-22T08:22:14.250415Z",
     "iopub.status.idle": "2025-07-22T08:22:14.255423Z",
     "shell.execute_reply": "2025-07-22T08:22:14.254719Z"
    },
    "papermill": {
     "duration": 0.009579,
     "end_time": "2025-07-22T08:22:14.256644",
     "exception": false,
     "start_time": "2025-07-22T08:22:14.247065",
     "status": "completed"
    },
    "tags": []
   },
   "outputs": [],
   "source": [
    "def simulate_quartet_msa(seq_len, label):\n",
    "\n",
    "    # Generate a random root sequence\n",
    "    root = [random.choice(\"ACGT\") for _ in range(seq_len)]\n",
    "\n",
    "    # Evolve from root to an internal node on left and right of tree\n",
    "    left_anc = mutate(root)   # internal ancestor for one split\n",
    "    right_anc = mutate(root)  # internal ancestor for the other split\n",
    "\n",
    "    # For each of the three possible topologies, split the two internal nodes into the four leaves\n",
    "    if label == 0:  # topology ((A,B),(C,D))\n",
    "        seqA = mutate(left_anc)\n",
    "        seqB = mutate(left_anc)\n",
    "        seqC = mutate(right_anc)\n",
    "        seqD = mutate(right_anc)\n",
    "    elif label == 1:  # topology ((A,C),(B,D))\n",
    "        seqA = mutate(left_anc)\n",
    "        seqC = mutate(left_anc)\n",
    "        seqB = mutate(right_anc)\n",
    "        seqD = mutate(right_anc)\n",
    "    else:  # label == 2: topology ((A,D),(B,C))\n",
    "        seqA = mutate(left_anc)\n",
    "        seqD = mutate(left_anc)\n",
    "        seqB = mutate(right_anc)\n",
    "        seqC = mutate(right_anc)\n",
    "\n",
    "    # The simulated MSA is the list of leaf sequences (strings)\n",
    "    msa = [\"\".join(seqA), \"\".join(seqB), \"\".join(seqC), \"\".join(seqD)]\n",
    "    return msa"
   ]
  },
  {
   "cell_type": "code",
   "execution_count": 12,
   "id": "eba1c406",
   "metadata": {
    "execution": {
     "iopub.execute_input": "2025-07-22T08:22:14.263217Z",
     "iopub.status.busy": "2025-07-22T08:22:14.263024Z",
     "iopub.status.idle": "2025-07-22T08:22:14.268386Z",
     "shell.execute_reply": "2025-07-22T08:22:14.267706Z"
    },
    "papermill": {
     "duration": 0.009886,
     "end_time": "2025-07-22T08:22:14.269468",
     "exception": false,
     "start_time": "2025-07-22T08:22:14.259582",
     "status": "completed"
    },
    "tags": []
   },
   "outputs": [],
   "source": [
    "def simulate_quartet_msa_gpt(seq_len, label):\n",
    "    ancestor = [random.choice(VOCAB) for _ in range(seq_len)]\n",
    "\n",
    "    if label == 0:\n",
    "        ab_common = mutate(ancestor, 0.05)\n",
    "        cd_common = mutate(ancestor, 0.05)\n",
    "        A = mutate(ab_common, 0.01)\n",
    "        B = mutate(ab_common, 0.01)\n",
    "        C = mutate(cd_common, 0.01)\n",
    "        D = mutate(cd_common, 0.01)\n",
    "\n",
    "    elif label == 1:\n",
    "        ac_common = mutate(ancestor, 0.05)\n",
    "        bd_common = mutate(ancestor, 0.05)\n",
    "        A = mutate(ac_common, 0.01)\n",
    "        C = mutate(ac_common, 0.01)\n",
    "        B = mutate(bd_common, 0.01)\n",
    "        D = mutate(bd_common, 0.01)\n",
    "\n",
    "    else:\n",
    "        ad_common = mutate(ancestor, 0.05)\n",
    "        bc_common = mutate(ancestor, 0.05)\n",
    "        A = mutate(ad_common, 0.01)\n",
    "        D = mutate(ad_common, 0.01)\n",
    "        B = mutate(bc_common, 0.01)\n",
    "        C = mutate(bc_common, 0.01)\n",
    "\n",
    "    return [A, B, C, D]  # shape: (4, seq_len)"
   ]
  },
  {
   "cell_type": "code",
   "execution_count": 13,
   "id": "0f265a58",
   "metadata": {
    "execution": {
     "iopub.execute_input": "2025-07-22T08:22:14.276286Z",
     "iopub.status.busy": "2025-07-22T08:22:14.275776Z",
     "iopub.status.idle": "2025-07-22T08:22:14.280508Z",
     "shell.execute_reply": "2025-07-22T08:22:14.279994Z"
    },
    "papermill": {
     "duration": 0.009119,
     "end_time": "2025-07-22T08:22:14.281535",
     "exception": false,
     "start_time": "2025-07-22T08:22:14.272416",
     "status": "completed"
    },
    "tags": []
   },
   "outputs": [],
   "source": [
    "from torch.utils.data import Dataset\n",
    "class SimulatedQuartetDataset(Dataset):\n",
    "    def __init__(self, size=1000, seq_len=256):\n",
    "        self.size = size\n",
    "        self.seq_len = seq_len\n",
    "        self.data = [self._generate_sample() for _ in range(size)]\n",
    "\n",
    "    def _generate_random_sample(self):\n",
    "        msa = random_msa(self.seq_len)\n",
    "        label = random.randint(0, 2)  # 3 possible topologies\n",
    "        return encode_msa(msa), label\n",
    "\n",
    "    def _generate_sample(self):\n",
    "        label = random.randint(0, 2)\n",
    "        msa = simulate_quartet_msa(self.seq_len, label)\n",
    "        return encode_msa(msa), label\n",
    "\n",
    "    def __getitem__(self, idx):\n",
    "        x, y = self.data[idx]\n",
    "        return x, y\n",
    "\n",
    "    def __len__(self):\n",
    "        return self.size"
   ]
  },
  {
   "cell_type": "code",
   "execution_count": 14,
   "id": "052d49ce",
   "metadata": {
    "execution": {
     "iopub.execute_input": "2025-07-22T08:22:14.288367Z",
     "iopub.status.busy": "2025-07-22T08:22:14.287893Z",
     "iopub.status.idle": "2025-07-22T08:22:14.291064Z",
     "shell.execute_reply": "2025-07-22T08:22:14.290518Z"
    },
    "papermill": {
     "duration": 0.007537,
     "end_time": "2025-07-22T08:22:14.292078",
     "exception": false,
     "start_time": "2025-07-22T08:22:14.284541",
     "status": "completed"
    },
    "tags": []
   },
   "outputs": [],
   "source": [
    "import torch\n",
    "from torch.utils.data import DataLoader\n",
    "import torch.nn as nn"
   ]
  },
  {
   "cell_type": "code",
   "execution_count": 15,
   "id": "d75a3d0f",
   "metadata": {
    "execution": {
     "iopub.execute_input": "2025-07-22T08:22:14.298564Z",
     "iopub.status.busy": "2025-07-22T08:22:14.298367Z",
     "iopub.status.idle": "2025-07-22T08:22:14.302440Z",
     "shell.execute_reply": "2025-07-22T08:22:14.301970Z"
    },
    "papermill": {
     "duration": 0.00849,
     "end_time": "2025-07-22T08:22:14.303473",
     "exception": false,
     "start_time": "2025-07-22T08:22:14.294983",
     "status": "completed"
    },
    "tags": []
   },
   "outputs": [],
   "source": [
    "def train_one_epoch(model, dataloader, optimizer, criterion, device):\n",
    "    model.train()\n",
    "    total_loss, correct = 0, 0\n",
    "\n",
    "    for x, y in dataloader:\n",
    "        x, y = x.to(device), y.to(device)\n",
    "        optimizer.zero_grad()\n",
    "        logits = model(x)\n",
    "        loss = criterion(logits, y)\n",
    "        loss.backward()\n",
    "        optimizer.step()\n",
    "\n",
    "        total_loss += loss.item() * x.size(0)\n",
    "        correct += (logits.argmax(dim=1) == y).sum().item()\n",
    "\n",
    "    return total_loss / len(dataloader.dataset), correct / len(dataloader.dataset)"
   ]
  },
  {
   "cell_type": "code",
   "execution_count": 16,
   "id": "80c513ec",
   "metadata": {
    "execution": {
     "iopub.execute_input": "2025-07-22T08:22:14.309976Z",
     "iopub.status.busy": "2025-07-22T08:22:14.309782Z",
     "iopub.status.idle": "2025-07-22T08:22:17.281966Z",
     "shell.execute_reply": "2025-07-22T08:22:17.281352Z"
    },
    "papermill": {
     "duration": 2.976896,
     "end_time": "2025-07-22T08:22:17.283346",
     "exception": false,
     "start_time": "2025-07-22T08:22:14.306450",
     "status": "completed"
    },
    "tags": []
   },
   "outputs": [],
   "source": [
    "device = torch.device('cuda' if torch.cuda.is_available() else 'cpu')\n",
    "model = QuartetTransformer(seq_len=256).to(device)\n",
    "\n",
    "train_ds = SimulatedQuartetDataset(size=2000, seq_len=512)\n",
    "val_ds = SimulatedQuartetDataset(size=500, seq_len=512)\n",
    "train_loader = DataLoader(train_ds, batch_size=32, shuffle=True)\n",
    "val_loader = DataLoader(val_ds, batch_size=32)"
   ]
  },
  {
   "cell_type": "code",
   "execution_count": 17,
   "id": "8dcea5c4",
   "metadata": {
    "execution": {
     "iopub.execute_input": "2025-07-22T08:22:17.290549Z",
     "iopub.status.busy": "2025-07-22T08:22:17.290323Z",
     "iopub.status.idle": "2025-07-22T08:24:47.568293Z",
     "shell.execute_reply": "2025-07-22T08:24:47.567405Z"
    },
    "papermill": {
     "duration": 150.282855,
     "end_time": "2025-07-22T08:24:47.569466",
     "exception": false,
     "start_time": "2025-07-22T08:22:17.286611",
     "status": "completed"
    },
    "tags": []
   },
   "outputs": [
    {
     "name": "stderr",
     "output_type": "stream",
     "text": [
      "                                                                                             \r"
     ]
    },
    {
     "name": "stdout",
     "output_type": "stream",
     "text": [
      "Epoch 1:\n",
      "  Train Loss: 1.1042, Accuracy: 0.3355\n",
      "  Val   Loss: 1.1071, Accuracy: 0.3720\n"
     ]
    },
    {
     "name": "stderr",
     "output_type": "stream",
     "text": [
      "                                                                                              \r"
     ]
    },
    {
     "name": "stdout",
     "output_type": "stream",
     "text": [
      "Epoch 2:\n",
      "  Train Loss: 1.0997, Accuracy: 0.3495\n",
      "  Val   Loss: 1.0920, Accuracy: 0.4280\n"
     ]
    },
    {
     "name": "stderr",
     "output_type": "stream",
     "text": [
      "                                                                                             \r"
     ]
    },
    {
     "name": "stdout",
     "output_type": "stream",
     "text": [
      "Epoch 3:\n",
      "  Train Loss: 1.0989, Accuracy: 0.3550\n",
      "  Val   Loss: 1.0994, Accuracy: 0.3160\n"
     ]
    },
    {
     "name": "stderr",
     "output_type": "stream",
     "text": [
      "                                                                                              \r"
     ]
    },
    {
     "name": "stdout",
     "output_type": "stream",
     "text": [
      "Epoch 4:\n",
      "  Train Loss: 1.0958, Accuracy: 0.3640\n",
      "  Val   Loss: 1.0918, Accuracy: 0.3680\n"
     ]
    },
    {
     "name": "stderr",
     "output_type": "stream",
     "text": [
      "                                                                                             \r"
     ]
    },
    {
     "name": "stdout",
     "output_type": "stream",
     "text": [
      "Epoch 5:\n",
      "  Train Loss: 1.0886, Accuracy: 0.3755\n",
      "  Val   Loss: 1.0736, Accuracy: 0.5820\n"
     ]
    },
    {
     "name": "stderr",
     "output_type": "stream",
     "text": [
      "                                                                                              \r"
     ]
    },
    {
     "name": "stdout",
     "output_type": "stream",
     "text": [
      "Epoch 6:\n",
      "  Train Loss: 1.0562, Accuracy: 0.4950\n",
      "  Val   Loss: 0.9934, Accuracy: 0.7620\n"
     ]
    },
    {
     "name": "stderr",
     "output_type": "stream",
     "text": [
      "                                                                                              \r"
     ]
    },
    {
     "name": "stdout",
     "output_type": "stream",
     "text": [
      "Epoch 7:\n",
      "  Train Loss: 0.7148, Accuracy: 0.7445\n",
      "  Val   Loss: 0.4245, Accuracy: 0.9360\n"
     ]
    },
    {
     "name": "stderr",
     "output_type": "stream",
     "text": [
      "                                                                                              \r"
     ]
    },
    {
     "name": "stdout",
     "output_type": "stream",
     "text": [
      "Epoch 8:\n",
      "  Train Loss: 0.2994, Accuracy: 0.9790\n",
      "  Val   Loss: 0.1631, Accuracy: 0.9980\n"
     ]
    },
    {
     "name": "stderr",
     "output_type": "stream",
     "text": [
      "                                                                                               \r"
     ]
    },
    {
     "name": "stdout",
     "output_type": "stream",
     "text": [
      "Epoch 9:\n",
      "  Train Loss: 0.1073, Accuracy: 0.9985\n",
      "  Val   Loss: 0.0358, Accuracy: 1.0000\n"
     ]
    },
    {
     "name": "stderr",
     "output_type": "stream",
     "text": [
      "                                                                                                \r"
     ]
    },
    {
     "name": "stdout",
     "output_type": "stream",
     "text": [
      "Epoch 10:\n",
      "  Train Loss: 0.0295, Accuracy: 1.0000\n",
      "  Val   Loss: 0.0150, Accuracy: 1.0000\n"
     ]
    },
    {
     "name": "stderr",
     "output_type": "stream",
     "text": [
      "                                                                                                 "
     ]
    },
    {
     "name": "stdout",
     "output_type": "stream",
     "text": [
      "Epoch 11:\n",
      "  Train Loss: 0.0120, Accuracy: 1.0000\n",
      "  Val   Loss: 0.0070, Accuracy: 1.0000\n"
     ]
    },
    {
     "name": "stderr",
     "output_type": "stream",
     "text": [
      "\r"
     ]
    }
   ],
   "source": [
    "optimizer = torch.optim.Adam(model.parameters(), lr=1e-4)\n",
    "criterion = nn.CrossEntropyLoss()\n",
    "\n",
    "from tqdm import tqdm\n",
    "\n",
    "for epoch in range(1, 12):\n",
    "    model.train()\n",
    "    total_loss, correct = 0, 0\n",
    "    train_loader_tqdm = tqdm(train_loader, desc=f\"Epoch {epoch} Training\", leave=False)\n",
    "    for x, y in train_loader_tqdm:\n",
    "        x, y = x.to(device), y.to(device)\n",
    "        optimizer.zero_grad()\n",
    "        logits = model(x)\n",
    "        loss = criterion(logits, y)\n",
    "        loss.backward()\n",
    "        optimizer.step()\n",
    "\n",
    "        total_loss += loss.item() * x.size(0)\n",
    "        correct += (logits.argmax(dim=1) == y).sum().item()\n",
    "        train_loader_tqdm.set_postfix(loss=loss.item(), accuracy=correct / ((train_loader_tqdm.n + 1) * x.size(0)))\n",
    "\n",
    "    train_loss = total_loss / len(train_loader.dataset)\n",
    "    train_acc = correct / len(train_loader.dataset)\n",
    "\n",
    "    model.eval()\n",
    "    total_loss, correct = 0, 0\n",
    "    val_loader_tqdm = tqdm(val_loader, desc=f\"Epoch {epoch} Validation\", leave=False)\n",
    "    with torch.no_grad():\n",
    "        for x, y in val_loader_tqdm:\n",
    "            x, y = x.to(device), y.to(device)\n",
    "            logits = model(x)\n",
    "            loss = criterion(logits, y)\n",
    "\n",
    "            total_loss += loss.item() * x.size(0)\n",
    "            correct += (logits.argmax(dim=1) == y).sum().item()\n",
    "            val_loader_tqdm.set_postfix(loss=loss.item(), accuracy=correct / ((val_loader_tqdm.n + 1) * x.size(0)))\n",
    "\n",
    "    val_loss = total_loss / len(val_loader.dataset)\n",
    "    val_acc = correct / len(val_loader.dataset)\n",
    "\n",
    "    print(f\"Epoch {epoch}:\")\n",
    "    print(f\"  Train Loss: {train_loss:.4f}, Accuracy: {train_acc:.4f}\")\n",
    "    print(f\"  Val   Loss: {val_loss:.4f}, Accuracy: {val_acc:.4f}\")\n",
    "\n",
    "torch.save(model.state_dict(), \"quartet_model.pt\")"
   ]
  },
  {
   "cell_type": "code",
   "execution_count": 18,
   "id": "0494a85e",
   "metadata": {
    "execution": {
     "iopub.execute_input": "2025-07-22T08:24:47.712356Z",
     "iopub.status.busy": "2025-07-22T08:24:47.711992Z",
     "iopub.status.idle": "2025-07-22T08:24:47.716391Z",
     "shell.execute_reply": "2025-07-22T08:24:47.715729Z"
    },
    "papermill": {
     "duration": 0.076466,
     "end_time": "2025-07-22T08:24:47.717466",
     "exception": false,
     "start_time": "2025-07-22T08:24:47.641000",
     "status": "completed"
    },
    "tags": []
   },
   "outputs": [],
   "source": [
    "# Example MSA of 4 aligned sequences\n",
    "msa = [\n",
    "    \"ACGTACGTACGTACGTACGTACGTACGTACGT\",  # Taxon A\n",
    "    \"ACGTACGTACGTACGTACGTACGTACGTACGT\",  # Taxon B\n",
    "    \"ACGTACGTACGTACGTACGTACGTACGTACGT\",  # Taxon C\n",
    "    \"ACGTACGTACGTACGTACGTACGTACGTACGT\",  # Taxon D\n",
    "]\n",
    "\n",
    "input_tensor = encode_msa(msa).unsqueeze(0).to(device)  # shape: (1, 4, L)"
   ]
  },
  {
   "cell_type": "code",
   "execution_count": 19,
   "id": "0a879368",
   "metadata": {
    "execution": {
     "iopub.execute_input": "2025-07-22T08:24:47.858406Z",
     "iopub.status.busy": "2025-07-22T08:24:47.858135Z",
     "iopub.status.idle": "2025-07-22T08:24:47.900136Z",
     "shell.execute_reply": "2025-07-22T08:24:47.899357Z"
    },
    "papermill": {
     "duration": 0.114138,
     "end_time": "2025-07-22T08:24:47.901489",
     "exception": false,
     "start_time": "2025-07-22T08:24:47.787351",
     "status": "completed"
    },
    "tags": []
   },
   "outputs": [],
   "source": [
    "with torch.no_grad():\n",
    "    logits = model(input_tensor)  # shape: (1, 3)\n",
    "    prediction = torch.argmax(logits, dim=1).item()  # scalar"
   ]
  },
  {
   "cell_type": "code",
   "execution_count": 20,
   "id": "ef02026e",
   "metadata": {
    "execution": {
     "iopub.execute_input": "2025-07-22T08:24:48.038470Z",
     "iopub.status.busy": "2025-07-22T08:24:48.038217Z",
     "iopub.status.idle": "2025-07-22T08:24:48.042304Z",
     "shell.execute_reply": "2025-07-22T08:24:48.041645Z"
    },
    "papermill": {
     "duration": 0.073215,
     "end_time": "2025-07-22T08:24:48.043365",
     "exception": false,
     "start_time": "2025-07-22T08:24:47.970150",
     "status": "completed"
    },
    "tags": []
   },
   "outputs": [
    {
     "name": "stdout",
     "output_type": "stream",
     "text": [
      "Predicted topology: ((A,D),(B,C))\n"
     ]
    }
   ],
   "source": [
    "topology_map = {\n",
    "    0: \"((A,B),(C,D))\",\n",
    "    1: \"((A,C),(B,D))\",\n",
    "    2: \"((A,D),(B,C))\"\n",
    "}\n",
    "\n",
    "print(\"Predicted topology:\", topology_map[prediction])"
   ]
  }
 ],
 "metadata": {
  "kaggle": {
   "accelerator": "gpu",
   "dataSources": [],
   "dockerImageVersionId": 31090,
   "isGpuEnabled": true,
   "isInternetEnabled": true,
   "language": "python",
   "sourceType": "notebook"
  },
  "kernelspec": {
   "display_name": "Python 3",
   "language": "python",
   "name": "python3"
  },
  "language_info": {
   "codemirror_mode": {
    "name": "ipython",
    "version": 3
   },
   "file_extension": ".py",
   "mimetype": "text/x-python",
   "name": "python",
   "nbconvert_exporter": "python",
   "pygments_lexer": "ipython3",
   "version": "3.11.13"
  },
  "papermill": {
   "default_parameters": {},
   "duration": 165.5081,
   "end_time": "2025-07-22T08:24:50.489156",
   "environment_variables": {},
   "exception": null,
   "input_path": "__notebook__.ipynb",
   "output_path": "__notebook__.ipynb",
   "parameters": {},
   "start_time": "2025-07-22T08:22:04.981056",
   "version": "2.6.0"
  }
 },
 "nbformat": 4,
 "nbformat_minor": 5
}
